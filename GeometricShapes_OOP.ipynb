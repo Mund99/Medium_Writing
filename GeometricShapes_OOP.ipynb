{
  "nbformat": 4,
  "nbformat_minor": 0,
  "metadata": {
    "colab": {
      "provenance": [],
      "authorship_tag": "ABX9TyMUBESboCuJuvcKtABKIcVT",
      "include_colab_link": true
    },
    "kernelspec": {
      "name": "python3",
      "display_name": "Python 3"
    },
    "language_info": {
      "name": "python"
    }
  },
  "cells": [
    {
      "cell_type": "markdown",
      "metadata": {
        "id": "view-in-github",
        "colab_type": "text"
      },
      "source": [
        "<a href=\"https://colab.research.google.com/github/Mund99/Medium_Writing/blob/main/GeometricShapes_OOP.ipynb\" target=\"_parent\"><img src=\"https://colab.research.google.com/assets/colab-badge.svg\" alt=\"Open In Colab\"/></a>"
      ]
    },
    {
      "cell_type": "code",
      "execution_count": 8,
      "metadata": {
        "id": "_fHhMOWcMmlS"
      },
      "outputs": [],
      "source": [
        "import math\n",
        "import matplotlib.pyplot as plt"
      ]
    },
    {
      "cell_type": "code",
      "source": [
        "# Base Class\n",
        "class Shape:\n",
        "    def __init__(self, color='Blue'):\n",
        "        self.color = color\n",
        "\n",
        "    def get_color(self):\n",
        "        return self.color\n",
        "\n",
        "    def area(self):\n",
        "        pass\n",
        "\n",
        "    def perimeter(self):\n",
        "        pass\n",
        "\n",
        "    def draw(self):\n",
        "        pass"
      ],
      "metadata": {
        "id": "1yLEr4niMyKg"
      },
      "execution_count": 9,
      "outputs": []
    },
    {
      "cell_type": "code",
      "source": [
        "class Rectangle(Shape):\n",
        "    def __init__(self, width, height):\n",
        "        super().__init__()\n",
        "        self.width = width\n",
        "        self.height = height\n",
        "\n",
        "    def area(self):\n",
        "        return self.width * self.height\n",
        "\n",
        "    def perimeter(self):\n",
        "        return 2 * (self.width + self.height)\n",
        "\n",
        "    def draw(self):\n",
        "        rectangle = plt.Rectangle((0, 0), self.width, self.height, color=self.color, fill=True)\n",
        "        fig, ax = plt.subplots()\n",
        "        ax.add_patch(rectangle)\n",
        "        ax.set_aspect('equal', 'box')\n",
        "        plt.xlim(-1, self.width + 1)\n",
        "        plt.ylim(-1, self.height + 1)\n",
        "        plt.title(type(self).__name__)  # Dynamically set the title based on the class name\n",
        "        plt.show()"
      ],
      "metadata": {
        "id": "4-mJDwHAMzLy"
      },
      "execution_count": 10,
      "outputs": []
    },
    {
      "cell_type": "code",
      "source": [
        "rectangle = Rectangle(width=4, height=6)\n",
        "rectangle.color = 'Black'\n",
        "rectangle.get_color()"
      ],
      "metadata": {
        "colab": {
          "base_uri": "https://localhost:8080/",
          "height": 36
        },
        "id": "FQe3kG0IM0Cg",
        "outputId": "83edfebd-41e1-434f-b3b5-f39977677083"
      },
      "execution_count": 11,
      "outputs": [
        {
          "output_type": "execute_result",
          "data": {
            "text/plain": [
              "'Black'"
            ],
            "application/vnd.google.colaboratory.intrinsic+json": {
              "type": "string"
            }
          },
          "metadata": {},
          "execution_count": 11
        }
      ]
    },
    {
      "cell_type": "code",
      "source": [
        "class Square(Rectangle):\n",
        "    def __init__(self, side_length):\n",
        "        # Since a square is a special case of a rectangle, we can reuse the Rectangle's __init__ method\n",
        "        super().__init__(width=side_length, height=side_length)"
      ],
      "metadata": {
        "id": "WlaW-RWqM1Ur"
      },
      "execution_count": 12,
      "outputs": []
    },
    {
      "cell_type": "code",
      "source": [
        "class Circle(Shape):\n",
        "    def __init__(self, radius):\n",
        "        super().__init__()\n",
        "        self.radius = radius\n",
        "\n",
        "    def area(self):\n",
        "        return math.pi * self.radius**2\n",
        "\n",
        "    def perimeter(self):\n",
        "        return 2 * math.pi * self.radius\n",
        "\n",
        "    def draw(self):\n",
        "        circle = plt.Circle((0, 0), self.radius, color=self.color, fill=True)\n",
        "        fig, ax = plt.subplots()\n",
        "        ax.add_patch(circle)\n",
        "        ax.set_aspect('equal', 'box')\n",
        "        plt.xlim(-self.radius - 1, self.radius + 1)\n",
        "        plt.ylim(-self.radius - 1, self.radius + 1)\n",
        "        plt.title(type(self).__name__)\n",
        "        plt.show()"
      ],
      "metadata": {
        "id": "SeOW1h3NM2Tm"
      },
      "execution_count": 13,
      "outputs": []
    },
    {
      "cell_type": "code",
      "source": [
        "# Example\n",
        "rectangle = Rectangle(width=4, height=6)\n",
        "square1 = Square(side_length=5)\n",
        "square2 = Square(side_length=3)\n",
        "circle = Circle(radius=5)\n",
        "\n",
        "rectangle.color = 'Purple'\n",
        "square1.color = 'Brown'\n",
        "square2.color = 'Red'\n",
        "\n",
        "area = rectangle.area()\n",
        "print(f'The rectangle area is {area:.2f} unit²')\n",
        "perimeter = rectangle.perimeter()\n",
        "print(f'The rectangle perimeter is {perimeter:.2f} unit')\n",
        "rectangle.draw()\n",
        "\n",
        "area = square1.area()\n",
        "print(f'The square1 area is {area:.2f} unit²')\n",
        "perimeter = square1.perimeter()\n",
        "print(f'The square1 perimeter is {perimeter:.2f} unit')\n",
        "square1.draw()\n",
        "\n",
        "area = square2.area()\n",
        "print(f'The square2 area is {area:.2f} unit²')\n",
        "perimeter = square2.perimeter()\n",
        "print(f'The square2 perimeter is {perimeter:.2f} unit')\n",
        "square2.draw()\n",
        "\n",
        "area = circle.area()\n",
        "print(f'The circle area is {area:.2f} unit²')\n",
        "perimeter = circle.perimeter()\n",
        "print(f'The circle perimeter is {perimeter:.2f} unit')\n",
        "circle.draw()"
      ],
      "metadata": {
        "colab": {
          "base_uri": "https://localhost:8080/",
          "height": 1000
        },
        "id": "cWnDZEm2M3TU",
        "outputId": "c333f37e-cc53-4136-f89e-b4ba60670be0"
      },
      "execution_count": 23,
      "outputs": [
        {
          "output_type": "stream",
          "name": "stdout",
          "text": [
            "The rectangle area is 24.00 unit²\n",
            "The rectangle perimeter is 20.00 unit\n"
          ]
        },
        {
          "output_type": "display_data",
          "data": {
            "text/plain": [
              "<Figure size 640x480 with 1 Axes>"
            ],
            "image/png": "[encoded data removed]"
          },
          "metadata": {}
        },
        {
          "output_type": "stream",
          "name": "stdout",
          "text": [
            "The square1 area is 25.00 unit²\n",
            "The square1 perimeter is 20.00 unit\n"
          ]
        },
        {
          "output_type": "display_data",
          "data": {
            "text/plain": [
              "<Figure size 640x480 with 1 Axes>"
            ],
            "image/png": "[encoded data removed]"
          },
          "metadata": {}
        },
        {
          "output_type": "stream",
          "name": "stdout",
          "text": [
            "The square2 area is 9.00 unit²\n",
            "The square2 perimeter is 12.00 unit\n"
          ]
        },
        {
          "output_type": "display_data",
          "data": {
            "text/plain": [
              "<Figure size 640x480 with 1 Axes>"
            ],
            "image/png": "[encoded data removed]"
          },
          "metadata": {}
        },
        {
          "output_type": "stream",
          "name": "stdout",
          "text": [
            "The circle area is 78.54 unit²\n",
            "The circle perimeter is 31.42 unit\n"
          ]
        },
        {
          "output_type": "display_data",
          "data": {
            "text/plain": [
              "<Figure size 640x480 with 1 Axes>"
            ],
            "image/png": "[encoded data removed]"
          },
          "metadata": {}
        }
      ]
    }
  ]
}